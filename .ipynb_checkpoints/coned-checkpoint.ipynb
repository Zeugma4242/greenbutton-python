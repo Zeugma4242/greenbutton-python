{
 "cells": [
  {
   "cell_type": "code",
   "execution_count": 1,
   "metadata": {},
   "outputs": [],
   "source": [
    "from greenbutton.parse import *\n",
    "import pandas as pd\n",
    "%matplotlib inline\n",
    "from matplotlib import pyplot as plt\n"
   ]
  },
  {
   "cell_type": "code",
   "execution_count": 2,
   "metadata": {},
   "outputs": [
    {
     "name": "stdout",
     "output_type": "stream",
     "text": [
      "UsagePoint (6 WAGON WHEEL RD MAMARONECK NY 10543-1026) electricity None:\n",
      "  Meter Reading (None) wattHours:\n",
      "UsagePoint (6 WAGON WHEEL RD MAMARONECK NY 10543-1026) electricity None:\n",
      "  Meter Reading (None) wattHours:\n",
      "UsagePoint (6 WAGON WHEEL RD MAMARONECK NY 10543-1026) electricity None:\n",
      "  Meter Reading (None) wattHours:\n"
     ]
    }
   ],
   "source": [
    "ups = []\n",
    "ups += parse_feed('cned_electric_interval_data_9843245_2018-12-18_to_2019-12-17.xml')\n",
    "ups += parse_feed('cned_electric_interval_data_9843245_2019-12-17_to_2020-12-17.xml')\n",
    "ups += parse_feed('cned_electric_interval_data_9843245_2020-12-17_to_2021-12-17.xml')\n",
    "\n",
    "records = []\n",
    "for up in ups:\n",
    "    print('UsagePoint (%s) %s %s:' % (up.title, up.serviceCategory.name, up.status))\n",
    "    for mr in up.meterReadings:\n",
    "        print('  Meter Reading (%s) %s:' % (mr.title, mr.readingType.uom.name))\n",
    "        for ir in mr.intervalReadings:\n",
    "            records += (ir.timePeriod.start, ir.timePeriod.duration, ir.value, ir.value_symbol),"
   ]
  },
  {
   "cell_type": "code",
   "execution_count": 3,
   "metadata": {},
   "outputs": [],
   "source": [
    "df = pd.DataFrame(records, columns='DATETIME,DURATION,USAGE,UNITS'.split(','))"
   ]
  },
  {
   "cell_type": "code",
   "execution_count": 4,
   "metadata": {},
   "outputs": [],
   "source": [
    "del df['DURATION']"
   ]
  },
  {
   "cell_type": "code",
   "execution_count": 5,
   "metadata": {},
   "outputs": [],
   "source": [
    "df.drop_duplicates(inplace=True)"
   ]
  },
  {
   "cell_type": "code",
   "execution_count": 6,
   "metadata": {},
   "outputs": [],
   "source": [
    "df['UNITS'] = df['UNITS'].astype('category')"
   ]
  },
  {
   "cell_type": "code",
   "execution_count": 14,
   "metadata": {},
   "outputs": [],
   "source": [
    "if len(df.UNITS.cat.categories) != 1:\n",
    "    raise Exception(\"New units\")"
   ]
  },
  {
   "cell_type": "code",
   "execution_count": 15,
   "metadata": {},
   "outputs": [],
   "source": [
    "df.DATETIME = df.DATETIME.dt.tz_convert('US/Eastern')"
   ]
  },
  {
   "cell_type": "code",
   "execution_count": 67,
   "metadata": {
    "scrolled": false
   },
   "outputs": [],
   "source": [
    "df = df[df.DATETIME >= '2019-01-01']  # we have only a couple of days of data for 2018"
   ]
  },
  {
   "cell_type": "code",
   "execution_count": 68,
   "metadata": {},
   "outputs": [
    {
     "name": "stdout",
     "output_type": "stream",
     "text": [
      "<class 'pandas.core.frame.DataFrame'>\n",
      "Int64Index: 98833 entries, 331 to 99339\n",
      "Data columns (total 7 columns):\n",
      " #   Column    Non-Null Count  Dtype                     \n",
      "---  ------    --------------  -----                     \n",
      " 0   DATETIME  98833 non-null  datetime64[ns, US/Eastern]\n",
      " 1   USAGE     98833 non-null  int64                     \n",
      " 2   UNITS     98833 non-null  category                  \n",
      " 3   STDRATE   98833 non-null  float64                   \n",
      " 4   VARRATE   98833 non-null  float64                   \n",
      " 5   STDCOST   98833 non-null  float64                   \n",
      " 6   VARCOST   98833 non-null  float64                   \n",
      "dtypes: category(1), datetime64[ns, US/Eastern](1), float64(4), int64(1)\n",
      "memory usage: 5.4 MB\n"
     ]
    }
   ],
   "source": [
    "df.info()"
   ]
  },
  {
   "cell_type": "code",
   "execution_count": 69,
   "metadata": {},
   "outputs": [
    {
     "name": "stdout",
     "output_type": "stream",
     "text": [
      "1639863900.0\n",
      "2021-12-18 16:45:00\n",
      "2021-06-18 12:45:00-04:00\n"
     ]
    }
   ],
   "source": [
    "from datetime import datetime, timezone\n",
    "import pytz\n",
    "print(\n",
    "    datetime(2021, 12, 18, 16, 45).timestamp() ,\n",
    "    datetime.fromtimestamp(1639863900) ,\n",
    "    datetime(2021, 6, 18, 16, 45).replace(tzinfo=timezone.utc).astimezone(tz=pytz.timezone('US/Eastern')) ,\n",
    " sep='\\n')"
   ]
  },
  {
   "cell_type": "code",
   "execution_count": 70,
   "metadata": {},
   "outputs": [
    {
     "data": {
      "text/html": [
       "<div>\n",
       "<style scoped>\n",
       "    .dataframe tbody tr th:only-of-type {\n",
       "        vertical-align: middle;\n",
       "    }\n",
       "\n",
       "    .dataframe tbody tr th {\n",
       "        vertical-align: top;\n",
       "    }\n",
       "\n",
       "    .dataframe thead th {\n",
       "        text-align: right;\n",
       "    }\n",
       "</style>\n",
       "<table border=\"1\" class=\"dataframe\">\n",
       "  <thead>\n",
       "    <tr style=\"text-align: right;\">\n",
       "      <th></th>\n",
       "      <th>DATETIME</th>\n",
       "      <th>USAGE</th>\n",
       "      <th>UNITS</th>\n",
       "      <th>STDRATE</th>\n",
       "      <th>VARRATE</th>\n",
       "      <th>STDCOST</th>\n",
       "      <th>VARCOST</th>\n",
       "    </tr>\n",
       "  </thead>\n",
       "  <tbody>\n",
       "    <tr>\n",
       "      <th>331</th>\n",
       "      <td>2019-01-01 00:00:00-05:00</td>\n",
       "      <td>54</td>\n",
       "      <td>Wh</td>\n",
       "      <td>11.976</td>\n",
       "      <td>1.68</td>\n",
       "      <td>0.006467</td>\n",
       "      <td>0.000907</td>\n",
       "    </tr>\n",
       "    <tr>\n",
       "      <th>332</th>\n",
       "      <td>2019-01-01 00:15:00-05:00</td>\n",
       "      <td>141</td>\n",
       "      <td>Wh</td>\n",
       "      <td>11.976</td>\n",
       "      <td>1.68</td>\n",
       "      <td>0.016886</td>\n",
       "      <td>0.002369</td>\n",
       "    </tr>\n",
       "    <tr>\n",
       "      <th>333</th>\n",
       "      <td>2019-01-01 00:30:00-05:00</td>\n",
       "      <td>78</td>\n",
       "      <td>Wh</td>\n",
       "      <td>11.976</td>\n",
       "      <td>1.68</td>\n",
       "      <td>0.009341</td>\n",
       "      <td>0.001310</td>\n",
       "    </tr>\n",
       "    <tr>\n",
       "      <th>334</th>\n",
       "      <td>2019-01-01 00:45:00-05:00</td>\n",
       "      <td>60</td>\n",
       "      <td>Wh</td>\n",
       "      <td>11.976</td>\n",
       "      <td>1.68</td>\n",
       "      <td>0.007186</td>\n",
       "      <td>0.001008</td>\n",
       "    </tr>\n",
       "    <tr>\n",
       "      <th>335</th>\n",
       "      <td>2019-01-01 01:00:00-05:00</td>\n",
       "      <td>60</td>\n",
       "      <td>Wh</td>\n",
       "      <td>11.976</td>\n",
       "      <td>1.68</td>\n",
       "      <td>0.007186</td>\n",
       "      <td>0.001008</td>\n",
       "    </tr>\n",
       "    <tr>\n",
       "      <th>...</th>\n",
       "      <td>...</td>\n",
       "      <td>...</td>\n",
       "      <td>...</td>\n",
       "      <td>...</td>\n",
       "      <td>...</td>\n",
       "      <td>...</td>\n",
       "      <td>...</td>\n",
       "    </tr>\n",
       "    <tr>\n",
       "      <th>99335</th>\n",
       "      <td>2021-12-17 06:45:00-05:00</td>\n",
       "      <td>969</td>\n",
       "      <td>Wh</td>\n",
       "      <td>11.976</td>\n",
       "      <td>1.68</td>\n",
       "      <td>0.116047</td>\n",
       "      <td>0.016279</td>\n",
       "    </tr>\n",
       "    <tr>\n",
       "      <th>99336</th>\n",
       "      <td>2021-12-17 07:00:00-05:00</td>\n",
       "      <td>522</td>\n",
       "      <td>Wh</td>\n",
       "      <td>11.976</td>\n",
       "      <td>1.68</td>\n",
       "      <td>0.062515</td>\n",
       "      <td>0.008770</td>\n",
       "    </tr>\n",
       "    <tr>\n",
       "      <th>99337</th>\n",
       "      <td>2021-12-17 07:15:00-05:00</td>\n",
       "      <td>459</td>\n",
       "      <td>Wh</td>\n",
       "      <td>11.976</td>\n",
       "      <td>1.68</td>\n",
       "      <td>0.054970</td>\n",
       "      <td>0.007711</td>\n",
       "    </tr>\n",
       "    <tr>\n",
       "      <th>99338</th>\n",
       "      <td>2021-12-17 07:30:00-05:00</td>\n",
       "      <td>153</td>\n",
       "      <td>Wh</td>\n",
       "      <td>11.976</td>\n",
       "      <td>1.68</td>\n",
       "      <td>0.018323</td>\n",
       "      <td>0.002570</td>\n",
       "    </tr>\n",
       "    <tr>\n",
       "      <th>99339</th>\n",
       "      <td>2021-12-17 07:45:00-05:00</td>\n",
       "      <td>81</td>\n",
       "      <td>Wh</td>\n",
       "      <td>11.976</td>\n",
       "      <td>1.68</td>\n",
       "      <td>0.009701</td>\n",
       "      <td>0.001361</td>\n",
       "    </tr>\n",
       "  </tbody>\n",
       "</table>\n",
       "<p>98833 rows × 7 columns</p>\n",
       "</div>"
      ],
      "text/plain": [
       "                       DATETIME  USAGE UNITS  STDRATE  VARRATE   STDCOST  \\\n",
       "331   2019-01-01 00:00:00-05:00     54    Wh   11.976     1.68  0.006467   \n",
       "332   2019-01-01 00:15:00-05:00    141    Wh   11.976     1.68  0.016886   \n",
       "333   2019-01-01 00:30:00-05:00     78    Wh   11.976     1.68  0.009341   \n",
       "334   2019-01-01 00:45:00-05:00     60    Wh   11.976     1.68  0.007186   \n",
       "335   2019-01-01 01:00:00-05:00     60    Wh   11.976     1.68  0.007186   \n",
       "...                         ...    ...   ...      ...      ...       ...   \n",
       "99335 2021-12-17 06:45:00-05:00    969    Wh   11.976     1.68  0.116047   \n",
       "99336 2021-12-17 07:00:00-05:00    522    Wh   11.976     1.68  0.062515   \n",
       "99337 2021-12-17 07:15:00-05:00    459    Wh   11.976     1.68  0.054970   \n",
       "99338 2021-12-17 07:30:00-05:00    153    Wh   11.976     1.68  0.018323   \n",
       "99339 2021-12-17 07:45:00-05:00     81    Wh   11.976     1.68  0.009701   \n",
       "\n",
       "        VARCOST  \n",
       "331    0.000907  \n",
       "332    0.002369  \n",
       "333    0.001310  \n",
       "334    0.001008  \n",
       "335    0.001008  \n",
       "...         ...  \n",
       "99335  0.016279  \n",
       "99336  0.008770  \n",
       "99337  0.007711  \n",
       "99338  0.002570  \n",
       "99339  0.001361  \n",
       "\n",
       "[98833 rows x 7 columns]"
      ]
     },
     "execution_count": 70,
     "metadata": {},
     "output_type": "execute_result"
    }
   ],
   "source": [
    "df"
   ]
  },
  {
   "cell_type": "code",
   "execution_count": 28,
   "metadata": {},
   "outputs": [],
   "source": [
    "df['STDRATE'] = df.DATETIME.apply(lambda dt: 13.766 if 6 <= dt.month <= 9 else 11.976)"
   ]
  },
  {
   "cell_type": "code",
   "execution_count": 29,
   "metadata": {},
   "outputs": [],
   "source": [
    "df['VARRATE'] = df.DATETIME.apply(lambda dt: 1.68 if 0 <= dt.hour < 8 else 23.84 if 6 <= dt.month <= 9 else 8.82)"
   ]
  },
  {
   "cell_type": "code",
   "execution_count": 57,
   "metadata": {},
   "outputs": [],
   "source": [
    "df['STDCOST'] = df['USAGE']/1000 * df['STDRATE']/100\n",
    "df['VARCOST'] = df['USAGE']/1000 * df['VARRATE']/100\n"
   ]
  },
  {
   "cell_type": "code",
   "execution_count": 72,
   "metadata": {},
   "outputs": [
    {
     "data": {
      "text/html": [
       "<div>\n",
       "<style scoped>\n",
       "    .dataframe tbody tr th:only-of-type {\n",
       "        vertical-align: middle;\n",
       "    }\n",
       "\n",
       "    .dataframe tbody tr th {\n",
       "        vertical-align: top;\n",
       "    }\n",
       "\n",
       "    .dataframe thead th {\n",
       "        text-align: right;\n",
       "    }\n",
       "</style>\n",
       "<table border=\"1\" class=\"dataframe\">\n",
       "  <thead>\n",
       "    <tr style=\"text-align: right;\">\n",
       "      <th></th>\n",
       "      <th>DATETIME</th>\n",
       "      <th>USAGE</th>\n",
       "      <th>UNITS</th>\n",
       "      <th>STDRATE</th>\n",
       "      <th>VARRATE</th>\n",
       "      <th>STDCOST</th>\n",
       "      <th>VARCOST</th>\n",
       "    </tr>\n",
       "  </thead>\n",
       "  <tbody>\n",
       "    <tr>\n",
       "      <th>331</th>\n",
       "      <td>2019-01-01 00:00:00-05:00</td>\n",
       "      <td>54</td>\n",
       "      <td>Wh</td>\n",
       "      <td>11.976</td>\n",
       "      <td>1.68</td>\n",
       "      <td>0.006467</td>\n",
       "      <td>0.000907</td>\n",
       "    </tr>\n",
       "    <tr>\n",
       "      <th>332</th>\n",
       "      <td>2019-01-01 00:15:00-05:00</td>\n",
       "      <td>141</td>\n",
       "      <td>Wh</td>\n",
       "      <td>11.976</td>\n",
       "      <td>1.68</td>\n",
       "      <td>0.016886</td>\n",
       "      <td>0.002369</td>\n",
       "    </tr>\n",
       "    <tr>\n",
       "      <th>333</th>\n",
       "      <td>2019-01-01 00:30:00-05:00</td>\n",
       "      <td>78</td>\n",
       "      <td>Wh</td>\n",
       "      <td>11.976</td>\n",
       "      <td>1.68</td>\n",
       "      <td>0.009341</td>\n",
       "      <td>0.001310</td>\n",
       "    </tr>\n",
       "    <tr>\n",
       "      <th>334</th>\n",
       "      <td>2019-01-01 00:45:00-05:00</td>\n",
       "      <td>60</td>\n",
       "      <td>Wh</td>\n",
       "      <td>11.976</td>\n",
       "      <td>1.68</td>\n",
       "      <td>0.007186</td>\n",
       "      <td>0.001008</td>\n",
       "    </tr>\n",
       "    <tr>\n",
       "      <th>335</th>\n",
       "      <td>2019-01-01 01:00:00-05:00</td>\n",
       "      <td>60</td>\n",
       "      <td>Wh</td>\n",
       "      <td>11.976</td>\n",
       "      <td>1.68</td>\n",
       "      <td>0.007186</td>\n",
       "      <td>0.001008</td>\n",
       "    </tr>\n",
       "  </tbody>\n",
       "</table>\n",
       "</div>"
      ],
      "text/plain": [
       "                     DATETIME  USAGE UNITS  STDRATE  VARRATE   STDCOST  \\\n",
       "331 2019-01-01 00:00:00-05:00     54    Wh   11.976     1.68  0.006467   \n",
       "332 2019-01-01 00:15:00-05:00    141    Wh   11.976     1.68  0.016886   \n",
       "333 2019-01-01 00:30:00-05:00     78    Wh   11.976     1.68  0.009341   \n",
       "334 2019-01-01 00:45:00-05:00     60    Wh   11.976     1.68  0.007186   \n",
       "335 2019-01-01 01:00:00-05:00     60    Wh   11.976     1.68  0.007186   \n",
       "\n",
       "      VARCOST  \n",
       "331  0.000907  \n",
       "332  0.002369  \n",
       "333  0.001310  \n",
       "334  0.001008  \n",
       "335  0.001008  "
      ]
     },
     "execution_count": 72,
     "metadata": {},
     "output_type": "execute_result"
    }
   ],
   "source": [
    "df.head()"
   ]
  },
  {
   "cell_type": "code",
   "execution_count": 85,
   "metadata": {},
   "outputs": [
    {
     "data": {
      "text/plain": [
       "<AxesSubplot:xlabel='DATETIME,DATETIME'>"
      ]
     },
     "execution_count": 85,
     "metadata": {},
     "output_type": "execute_result"
    },
    {
     "data": {
      "image/png": "[encoded data removed]",
      "text/plain": [
       "<Figure size 1440x720 with 1 Axes>"
      ]
     },
     "metadata": {
      "needs_background": "light"
     },
     "output_type": "display_data"
    }
   ],
   "source": [
    "usageym = df.groupby([df['DATETIME'].dt.year, \n",
    "                    df['DATETIME'].dt.month \n",
    "                    #df['DATETIME'].dt.day, \n",
    "                    #df['DATETIME'].dt.hour\n",
    "                   ]\n",
    "                    )[['STDCOST', 'VARCOST']].sum()\n",
    "\n",
    "usageym.plot(figsize=(20,10), kind='line')"
   ]
  },
  {
   "cell_type": "code",
   "execution_count": 86,
   "metadata": {},
   "outputs": [
    {
     "data": {
      "text/html": [
       "<div>\n",
       "<style scoped>\n",
       "    .dataframe tbody tr th:only-of-type {\n",
       "        vertical-align: middle;\n",
       "    }\n",
       "\n",
       "    .dataframe tbody tr th {\n",
       "        vertical-align: top;\n",
       "    }\n",
       "\n",
       "    .dataframe thead th {\n",
       "        text-align: right;\n",
       "    }\n",
       "</style>\n",
       "<table border=\"1\" class=\"dataframe\">\n",
       "  <thead>\n",
       "    <tr style=\"text-align: right;\">\n",
       "      <th></th>\n",
       "      <th></th>\n",
       "      <th>STDCOST</th>\n",
       "      <th>VARCOST</th>\n",
       "    </tr>\n",
       "    <tr>\n",
       "      <th>DATETIME</th>\n",
       "      <th>DATETIME</th>\n",
       "      <th></th>\n",
       "      <th></th>\n",
       "    </tr>\n",
       "  </thead>\n",
       "  <tbody>\n",
       "    <tr>\n",
       "      <th rowspan=\"12\" valign=\"top\">2019</th>\n",
       "      <th>1</th>\n",
       "      <td>79.823633</td>\n",
       "      <td>43.160414</td>\n",
       "    </tr>\n",
       "    <tr>\n",
       "      <th>2</th>\n",
       "      <td>59.412577</td>\n",
       "      <td>30.461647</td>\n",
       "    </tr>\n",
       "    <tr>\n",
       "      <th>3</th>\n",
       "      <td>62.913521</td>\n",
       "      <td>36.119551</td>\n",
       "    </tr>\n",
       "    <tr>\n",
       "      <th>4</th>\n",
       "      <td>72.330130</td>\n",
       "      <td>44.410372</td>\n",
       "    </tr>\n",
       "    <tr>\n",
       "      <th>5</th>\n",
       "      <td>76.559694</td>\n",
       "      <td>45.324569</td>\n",
       "    </tr>\n",
       "    <tr>\n",
       "      <th>6</th>\n",
       "      <td>126.441398</td>\n",
       "      <td>185.949425</td>\n",
       "    </tr>\n",
       "    <tr>\n",
       "      <th>7</th>\n",
       "      <td>139.480278</td>\n",
       "      <td>206.714849</td>\n",
       "    </tr>\n",
       "    <tr>\n",
       "      <th>8</th>\n",
       "      <td>78.996191</td>\n",
       "      <td>111.379899</td>\n",
       "    </tr>\n",
       "    <tr>\n",
       "      <th>9</th>\n",
       "      <td>70.704654</td>\n",
       "      <td>98.283710</td>\n",
       "    </tr>\n",
       "    <tr>\n",
       "      <th>10</th>\n",
       "      <td>58.319407</td>\n",
       "      <td>34.358675</td>\n",
       "    </tr>\n",
       "    <tr>\n",
       "      <th>11</th>\n",
       "      <td>62.995556</td>\n",
       "      <td>36.073082</td>\n",
       "    </tr>\n",
       "    <tr>\n",
       "      <th>12</th>\n",
       "      <td>77.993940</td>\n",
       "      <td>44.364373</td>\n",
       "    </tr>\n",
       "    <tr>\n",
       "      <th rowspan=\"12\" valign=\"top\">2020</th>\n",
       "      <th>1</th>\n",
       "      <td>71.729893</td>\n",
       "      <td>40.136846</td>\n",
       "    </tr>\n",
       "    <tr>\n",
       "      <th>2</th>\n",
       "      <td>53.366373</td>\n",
       "      <td>30.564601</td>\n",
       "    </tr>\n",
       "    <tr>\n",
       "      <th>3</th>\n",
       "      <td>77.784839</td>\n",
       "      <td>47.371540</td>\n",
       "    </tr>\n",
       "    <tr>\n",
       "      <th>4</th>\n",
       "      <td>77.579690</td>\n",
       "      <td>47.088292</td>\n",
       "    </tr>\n",
       "    <tr>\n",
       "      <th>5</th>\n",
       "      <td>78.891062</td>\n",
       "      <td>47.494591</td>\n",
       "    </tr>\n",
       "    <tr>\n",
       "      <th>6</th>\n",
       "      <td>117.232220</td>\n",
       "      <td>168.301270</td>\n",
       "    </tr>\n",
       "    <tr>\n",
       "      <th>7</th>\n",
       "      <td>206.528820</td>\n",
       "      <td>308.337074</td>\n",
       "    </tr>\n",
       "    <tr>\n",
       "      <th>8</th>\n",
       "      <td>137.932429</td>\n",
       "      <td>202.386240</td>\n",
       "    </tr>\n",
       "    <tr>\n",
       "      <th>9</th>\n",
       "      <td>81.747739</td>\n",
       "      <td>112.292522</td>\n",
       "    </tr>\n",
       "    <tr>\n",
       "      <th>10</th>\n",
       "      <td>71.113728</td>\n",
       "      <td>43.286330</td>\n",
       "    </tr>\n",
       "    <tr>\n",
       "      <th>11</th>\n",
       "      <td>72.334202</td>\n",
       "      <td>43.905431</td>\n",
       "    </tr>\n",
       "    <tr>\n",
       "      <th>12</th>\n",
       "      <td>85.220497</td>\n",
       "      <td>50.594103</td>\n",
       "    </tr>\n",
       "    <tr>\n",
       "      <th rowspan=\"12\" valign=\"top\">2021</th>\n",
       "      <th>1</th>\n",
       "      <td>90.058562</td>\n",
       "      <td>53.474980</td>\n",
       "    </tr>\n",
       "    <tr>\n",
       "      <th>2</th>\n",
       "      <td>74.033237</td>\n",
       "      <td>43.584710</td>\n",
       "    </tr>\n",
       "    <tr>\n",
       "      <th>3</th>\n",
       "      <td>77.270350</td>\n",
       "      <td>45.515295</td>\n",
       "    </tr>\n",
       "    <tr>\n",
       "      <th>4</th>\n",
       "      <td>67.285599</td>\n",
       "      <td>39.798499</td>\n",
       "    </tr>\n",
       "    <tr>\n",
       "      <th>5</th>\n",
       "      <td>71.281871</td>\n",
       "      <td>43.169402</td>\n",
       "    </tr>\n",
       "    <tr>\n",
       "      <th>6</th>\n",
       "      <td>139.209776</td>\n",
       "      <td>196.801579</td>\n",
       "    </tr>\n",
       "    <tr>\n",
       "      <th>7</th>\n",
       "      <td>157.853345</td>\n",
       "      <td>225.281923</td>\n",
       "    </tr>\n",
       "    <tr>\n",
       "      <th>8</th>\n",
       "      <td>191.025138</td>\n",
       "      <td>278.732155</td>\n",
       "    </tr>\n",
       "    <tr>\n",
       "      <th>9</th>\n",
       "      <td>116.081244</td>\n",
       "      <td>152.242169</td>\n",
       "    </tr>\n",
       "    <tr>\n",
       "      <th>10</th>\n",
       "      <td>81.728296</td>\n",
       "      <td>48.793739</td>\n",
       "    </tr>\n",
       "    <tr>\n",
       "      <th>11</th>\n",
       "      <td>84.451998</td>\n",
       "      <td>50.306798</td>\n",
       "    </tr>\n",
       "    <tr>\n",
       "      <th>12</th>\n",
       "      <td>62.660947</td>\n",
       "      <td>37.445789</td>\n",
       "    </tr>\n",
       "  </tbody>\n",
       "</table>\n",
       "</div>"
      ],
      "text/plain": [
       "                      STDCOST     VARCOST\n",
       "DATETIME DATETIME                        \n",
       "2019     1          79.823633   43.160414\n",
       "         2          59.412577   30.461647\n",
       "         3          62.913521   36.119551\n",
       "         4          72.330130   44.410372\n",
       "         5          76.559694   45.324569\n",
       "         6         126.441398  185.949425\n",
       "         7         139.480278  206.714849\n",
       "         8          78.996191  111.379899\n",
       "         9          70.704654   98.283710\n",
       "         10         58.319407   34.358675\n",
       "         11         62.995556   36.073082\n",
       "         12         77.993940   44.364373\n",
       "2020     1          71.729893   40.136846\n",
       "         2          53.366373   30.564601\n",
       "         3          77.784839   47.371540\n",
       "         4          77.579690   47.088292\n",
       "         5          78.891062   47.494591\n",
       "         6         117.232220  168.301270\n",
       "         7         206.528820  308.337074\n",
       "         8         137.932429  202.386240\n",
       "         9          81.747739  112.292522\n",
       "         10         71.113728   43.286330\n",
       "         11         72.334202   43.905431\n",
       "         12         85.220497   50.594103\n",
       "2021     1          90.058562   53.474980\n",
       "         2          74.033237   43.584710\n",
       "         3          77.270350   45.515295\n",
       "         4          67.285599   39.798499\n",
       "         5          71.281871   43.169402\n",
       "         6         139.209776  196.801579\n",
       "         7         157.853345  225.281923\n",
       "         8         191.025138  278.732155\n",
       "         9         116.081244  152.242169\n",
       "         10         81.728296   48.793739\n",
       "         11         84.451998   50.306798\n",
       "         12         62.660947   37.445789"
      ]
     },
     "execution_count": 86,
     "metadata": {},
     "output_type": "execute_result"
    }
   ],
   "source": [
    "usageym"
   ]
  },
  {
   "cell_type": "code",
   "execution_count": 87,
   "metadata": {},
   "outputs": [
    {
     "data": {
      "text/plain": [
       "<AxesSubplot:xlabel='DATETIME'>"
      ]
     },
     "execution_count": 87,
     "metadata": {},
     "output_type": "execute_result"
    },
    {
     "data": {
      "image/png": "[encoded data removed]",
      "text/plain": [
       "<Figure size 1440x720 with 1 Axes>"
      ]
     },
     "metadata": {
      "needs_background": "light"
     },
     "output_type": "display_data"
    }
   ],
   "source": [
    "usagey = df.groupby([df['DATETIME'].dt.year\n",
    "                   ]\n",
    "                    )[['STDCOST', 'VARCOST']].sum()\n",
    "\n",
    "usagey.plot(figsize=(20,10), kind='line')"
   ]
  },
  {
   "cell_type": "code",
   "execution_count": 88,
   "metadata": {},
   "outputs": [
    {
     "data": {
      "text/html": [
       "<div>\n",
       "<style scoped>\n",
       "    .dataframe tbody tr th:only-of-type {\n",
       "        vertical-align: middle;\n",
       "    }\n",
       "\n",
       "    .dataframe tbody tr th {\n",
       "        vertical-align: top;\n",
       "    }\n",
       "\n",
       "    .dataframe thead th {\n",
       "        text-align: right;\n",
       "    }\n",
       "</style>\n",
       "<table border=\"1\" class=\"dataframe\">\n",
       "  <thead>\n",
       "    <tr style=\"text-align: right;\">\n",
       "      <th></th>\n",
       "      <th>STDCOST</th>\n",
       "      <th>VARCOST</th>\n",
       "    </tr>\n",
       "    <tr>\n",
       "      <th>DATETIME</th>\n",
       "      <th></th>\n",
       "      <th></th>\n",
       "    </tr>\n",
       "  </thead>\n",
       "  <tbody>\n",
       "    <tr>\n",
       "      <th>2019</th>\n",
       "      <td>965.970979</td>\n",
       "      <td>916.600565</td>\n",
       "    </tr>\n",
       "    <tr>\n",
       "      <th>2020</th>\n",
       "      <td>1131.461491</td>\n",
       "      <td>1141.758840</td>\n",
       "    </tr>\n",
       "    <tr>\n",
       "      <th>2021</th>\n",
       "      <td>1212.940362</td>\n",
       "      <td>1215.147038</td>\n",
       "    </tr>\n",
       "  </tbody>\n",
       "</table>\n",
       "</div>"
      ],
      "text/plain": [
       "              STDCOST      VARCOST\n",
       "DATETIME                          \n",
       "2019       965.970979   916.600565\n",
       "2020      1131.461491  1141.758840\n",
       "2021      1212.940362  1215.147038"
      ]
     },
     "execution_count": 88,
     "metadata": {},
     "output_type": "execute_result"
    }
   ],
   "source": [
    "usagey"
   ]
  },
  {
   "cell_type": "code",
   "execution_count": 113,
   "metadata": {},
   "outputs": [
    {
     "data": {
      "text/plain": [
       "<AxesSubplot:xlabel='DATETIME,DATETIME,DATETIME'>"
      ]
     },
     "execution_count": 113,
     "metadata": {},
     "output_type": "execute_result"
    },
    {
     "data": {
      "image/png": "[encoded data removed]",
      "text/plain": [
       "<Figure size 1440x720 with 1 Axes>"
      ]
     },
     "metadata": {
      "needs_background": "light"
     },
     "output_type": "display_data"
    }
   ],
   "source": [
    "usage = df.groupby([df['DATETIME'].dt.year, \n",
    "                    df['DATETIME'].dt.month, \n",
    "                    #df['DATETIME'].dt.day, \n",
    "                    df['DATETIME'].dt.hour])['USAGE'].sum().loc[(2020,6,1):(2020,9,23)]\n",
    "\n",
    "usage.plot(figsize=(20,10), kind='bar')"
   ]
  },
  {
   "cell_type": "code",
   "execution_count": 112,
   "metadata": {},
   "outputs": [
    {
     "data": {
      "text/plain": [
       "<AxesSubplot:xlabel='DATETIME,DATETIME,DATETIME'>"
      ]
     },
     "execution_count": 112,
     "metadata": {},
     "output_type": "execute_result"
    },
    {
     "data": {
      "image/png": "[encoded data removed]",
      "text/plain": [
       "<Figure size 1440x720 with 1 Axes>"
      ]
     },
     "metadata": {
      "needs_background": "light"
     },
     "output_type": "display_data"
    }
   ],
   "source": [
    "usage = df.groupby([df['DATETIME'].dt.year, \n",
    "                    df['DATETIME'].dt.month, \n",
    "                    #df['DATETIME'].dt.day, \n",
    "                    df['DATETIME'].dt.hour])['USAGE'].sum().loc[(2021,6,1):(2021,9,23)]\n",
    "\n",
    "usage.plot(figsize=(20,10), kind='bar')"
   ]
  },
  {
   "cell_type": "code",
   "execution_count": 34,
   "metadata": {},
   "outputs": [
    {
     "data": {
      "text/html": [
       "<div>\n",
       "<style scoped>\n",
       "    .dataframe tbody tr th:only-of-type {\n",
       "        vertical-align: middle;\n",
       "    }\n",
       "\n",
       "    .dataframe tbody tr th {\n",
       "        vertical-align: top;\n",
       "    }\n",
       "\n",
       "    .dataframe thead th {\n",
       "        text-align: right;\n",
       "    }\n",
       "</style>\n",
       "<table border=\"1\" class=\"dataframe\">\n",
       "  <thead>\n",
       "    <tr style=\"text-align: right;\">\n",
       "      <th></th>\n",
       "      <th>STARTDT</th>\n",
       "      <th>USAGE</th>\n",
       "      <th>UNITS</th>\n",
       "    </tr>\n",
       "  </thead>\n",
       "  <tbody>\n",
       "    <tr>\n",
       "      <th>17250</th>\n",
       "      <td>2019-07-21 16:15:00+00:00</td>\n",
       "      <td>1470</td>\n",
       "      <td>Wh</td>\n",
       "    </tr>\n",
       "    <tr>\n",
       "      <th>17251</th>\n",
       "      <td>2019-07-21 16:30:00+00:00</td>\n",
       "      <td>1317</td>\n",
       "      <td>Wh</td>\n",
       "    </tr>\n",
       "    <tr>\n",
       "      <th>17252</th>\n",
       "      <td>2019-07-21 16:45:00+00:00</td>\n",
       "      <td>1332</td>\n",
       "      <td>Wh</td>\n",
       "    </tr>\n",
       "    <tr>\n",
       "      <th>17253</th>\n",
       "      <td>2019-07-21 17:00:00+00:00</td>\n",
       "      <td>2379</td>\n",
       "      <td>Wh</td>\n",
       "    </tr>\n",
       "    <tr>\n",
       "      <th>17254</th>\n",
       "      <td>2019-07-21 17:15:00+00:00</td>\n",
       "      <td>3459</td>\n",
       "      <td>Wh</td>\n",
       "    </tr>\n",
       "    <tr>\n",
       "      <th>17255</th>\n",
       "      <td>2019-07-21 17:30:00+00:00</td>\n",
       "      <td>3222</td>\n",
       "      <td>Wh</td>\n",
       "    </tr>\n",
       "    <tr>\n",
       "      <th>17256</th>\n",
       "      <td>2019-07-21 17:45:00+00:00</td>\n",
       "      <td>2079</td>\n",
       "      <td>Wh</td>\n",
       "    </tr>\n",
       "    <tr>\n",
       "      <th>17257</th>\n",
       "      <td>2019-07-22 12:00:00+00:00</td>\n",
       "      <td>216</td>\n",
       "      <td>Wh</td>\n",
       "    </tr>\n",
       "  </tbody>\n",
       "</table>\n",
       "</div>"
      ],
      "text/plain": [
       "                        STARTDT  USAGE UNITS\n",
       "17250 2019-07-21 16:15:00+00:00   1470    Wh\n",
       "17251 2019-07-21 16:30:00+00:00   1317    Wh\n",
       "17252 2019-07-21 16:45:00+00:00   1332    Wh\n",
       "17253 2019-07-21 17:00:00+00:00   2379    Wh\n",
       "17254 2019-07-21 17:15:00+00:00   3459    Wh\n",
       "17255 2019-07-21 17:30:00+00:00   3222    Wh\n",
       "17256 2019-07-21 17:45:00+00:00   2079    Wh\n",
       "17257 2019-07-22 12:00:00+00:00    216    Wh"
      ]
     },
     "execution_count": 34,
     "metadata": {},
     "output_type": "execute_result"
    }
   ],
   "source": [
    "\n",
    "df.iloc[df.USAGE.idxmax()-4:df.USAGE.idxmax()+4]"
   ]
  },
  {
   "cell_type": "code",
   "execution_count": null,
   "metadata": {},
   "outputs": [],
   "source": []
  }
 ],
 "metadata": {
  "interpreter": {
   "hash": "a0a5145e6c304e2a9afaf5b930a2955b950bd4b81fe94f7c42930f43f42762eb"
  },
  "kernelspec": {
   "display_name": "Python 3 (ipykernel)",
   "language": "python",
   "name": "python3"
  },
  "language_info": {
   "codemirror_mode": {
    "name": "ipython",
    "version": 3
   },
   "file_extension": ".py",
   "mimetype": "text/x-python",
   "name": "python",
   "nbconvert_exporter": "python",
   "pygments_lexer": "ipython3",
   "version": "3.10.1"
  }
 },
 "nbformat": 4,
 "nbformat_minor": 2
}
